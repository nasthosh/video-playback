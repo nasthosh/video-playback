{
  "nbformat": 4,
  "nbformat_minor": 0,
  "metadata": {
    "colab": {
      "name": "python_video_playback.ipynb",
      "provenance": [],
      "collapsed_sections": [],
      "authorship_tag": "ABX9TyNWs/oQ8AJc8rHVEwR1iMkI",
      "include_colab_link": true
    },
    "kernelspec": {
      "name": "python3",
      "display_name": "Python 3"
    }
  },
  "cells": [
    {
      "cell_type": "markdown",
      "metadata": {
        "id": "view-in-github",
        "colab_type": "text"
      },
      "source": [
        "<a href=\"https://colab.research.google.com/github/nasthosh/video-playback/blob/main/python_video_playback.ipynb\" target=\"_parent\"><img src=\"https://colab.research.google.com/assets/colab-badge.svg\" alt=\"Open In Colab\"/></a>"
      ]
    },
    {
      "cell_type": "code",
      "metadata": {
        "id": "M2Ml_Ojwz0TY"
      },
      "source": [
        "import argparse\n",
        "import cv2"
      ],
      "execution_count": 1,
      "outputs": []
    },
    {
      "cell_type": "code",
      "metadata": {
        "id": "yuQkGzeczVwl"
      },
      "source": [
        "class VideoPlayer():\n",
        "\n",
        "    def __init__(self):\n",
        "        self.video_file_path = None\n",
        "        self.fps = 5.0\n",
        "        self.display_resolution = None\n",
        "        self.monochrome = False\n",
        "\n",
        "    def capture_video(self):\n",
        "        if not self.video_file_path:\n",
        "            print(\"Path not provided.\")\n",
        "        cap = cv2.VideoCapture(self.video_file_path)\n",
        "        if (cap.isOpened() == False):\n",
        "            print(\"Error opening video  file\")\n",
        "        return cap\n",
        "\n",
        "    def setMonochrome(self, frame):\n",
        "        if self.monochrome:\n",
        "            return cv2.cvtColor(frame, cv2.COLOR_BGR2GRAY)\n",
        "        return frame\n",
        "\n",
        "    def setResize(self, frame):\n",
        "        if self.display_resolution:\n",
        "            return cv2.resize(frame, self.display_resolution)\n",
        "        return frame\n",
        "\n",
        "    def configure_key_p(self, cap):\n",
        "        key = cv2.waitKey(0)\n",
        "        if (key & 0xFF == ord('b')):\n",
        "            cur_frame_number = cap.get(cv2.CAP_PROP_POS_FRAMES)\n",
        "            print('* At frame #' + str(cur_frame_number))\n",
        "            prev_frame = cur_frame_number\n",
        "            if (cur_frame_number > 1):\n",
        "                prev_frame -= 1\n",
        "            print('* Rewind to frame #' + str(prev_frame))\n",
        "            cap.set(cv2.CAP_PROP_POS_FRAMES, prev_frame)\n",
        "        return cap\n",
        "\n",
        "    def play(self):\n",
        "        cap = self.capture_video()\n",
        "        while (cap.isOpened()):\n",
        "            ret, frame = cap.read()\n",
        "            if ret == True:\n",
        "                frame = self.setMonochrome(frame)\n",
        "                frame = self.setResize(frame)\n",
        "                cv2.imshow('frame', frame)\n",
        "                key = cv2.waitKey(20)\n",
        "                if (key & 0xFF == ord('p')):\n",
        "                    cap = self.configure_key_p(cap)\n",
        "                elif (key & 0xFF == ord('q')):\n",
        "                    break\n",
        "            else:\n",
        "                break\n",
        "\n",
        "        cap.release()\n",
        "        cv2.destroyAllWindows()"
      ],
      "execution_count": 2,
      "outputs": []
    },
    {
      "cell_type": "code",
      "metadata": {
        "id": "CwFknr84zv4t"
      },
      "source": [
        "# ## Declare Args \n",
        "parser = argparse.ArgumentParser(description='This utility is for the video playback transforamt.')\n",
        "\n",
        "# Mandatory Argument\n",
        "parser.add_argument('-i', '--video_file_path', help='Input file name', required=True) \n",
        "\n",
        "parser.add_argument('-j', '--fps', help='Fps value', required=False)\n",
        "parser.add_argument('-k', '--display_resolution', help='display_resolution name', required=False)\n",
        "parser.add_argument('-l', '--monochrome', help='monochrome True/False', required=False)\n",
        "args = parser.parse_args()\n",
        "\n",
        "video = VideoPlayer()\n",
        "video.video_file_path = args.video_file_path\n",
        "video.fps = args.fps\n",
        "video.display_resolution = args.display_resolution\n",
        "video.monochrome = args.monochrome\n",
        "video.play()"
      ],
      "execution_count": 3,
      "outputs": []
    }
  ]
}